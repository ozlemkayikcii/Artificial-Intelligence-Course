{
  "nbformat": 4,
  "nbformat_minor": 0,
  "metadata": {
    "colab": {
      "provenance": []
    },
    "kernelspec": {
      "name": "python3",
      "display_name": "Python 3"
    },
    "language_info": {
      "name": "python"
    }
  },
  "cells": [
    {
      "cell_type": "code",
      "execution_count": 1,
      "metadata": {
        "colab": {
          "base_uri": "https://localhost:8080/"
        },
        "id": "KykSznudOX5V",
        "outputId": "efa58187-0fa8-4eed-9147-04d21d049dfe"
      },
      "outputs": [
        {
          "output_type": "stream",
          "name": "stdout",
          "text": [
            "1:\n",
            "-13\n",
            "-5\n",
            "-8\n",
            "-3\n",
            "-995\n",
            "-400\n",
            "-15\n",
            "2:\n",
            "3829\n"
          ]
        }
      ],
      "source": [
        "num_list = [12, -13, -5, -8, 10, 32, -3, -995, 533, -400, 32, 75, 150, 180, 145, 525, 50, 31, -15, 22, 41, 123, 512, 123, 1233]\n",
        "print(\"1:\")\n",
        "for number in num_list:\n",
        "  if number < 0:\n",
        "    print (number)\n",
        "sum=0\n",
        "for number in num_list:\n",
        "  if number > 0:\n",
        "    sum=sum+ number\n",
        "print(\"2:\")\n",
        "print(sum)\n"
      ]
    },
    {
      "cell_type": "code",
      "source": [
        "countries_list = ['Argentina', 'Australia', 'Austria', 'Belgium', 'Bolivia', 'Brazil', 'Bulgaria', 'Canada', 'Chile', 'Colombia', 'Costa Rica', 'Croatia', 'Czechia', 'Denmark', 'Ecuador', 'Estonia', 'Finland', 'France', 'Germany', 'Gibraltar', 'Greece', 'Guatemala', 'Honduras', 'Hong Kong', 'Hungary', 'Iceland', 'India', 'Indonesia', 'Ireland', 'Israel', 'Italy', 'Japan', 'Latvia', 'Liechtenstein', 'Lithuania', 'Malaysia', 'Mexico', 'Moldova', 'Monaco', 'Netherlands', 'New Zealand', 'Norway', 'Paraguay', 'Peru', 'Philippines', 'Poland', 'Portugal', 'Romania', 'Russia', 'San Marino', 'Singapore', 'Slovakia', 'South Africa', 'South Korea', 'Spain', 'Sweden', 'Switzerland', 'Taiwan', 'Thailand', 'Turkey', 'Ukraine', 'United Kingdom', 'United States', 'Uruguay', 'Venezuela']\n",
        "#find ending with land\n",
        "print(\"3:\")\n",
        "for country in countries_list:\n",
        "  if 'land' in country:\n",
        "    print(country)\n",
        "print(\"4:\")\n",
        "for country in countries_list:\n",
        "  if ' ' in country:\n",
        "    print(country)\n",
        "print(\"5:\")\n",
        "\n",
        "new_list=[]\n",
        "\n",
        "for country in countries_list:\n",
        "\n",
        "  if 'b' in country or   'B' in country or   'C' in country or   'c' in country or   'D' in country or   'd' in country:\n",
        "    continue\n",
        "  else:\n",
        "    new_list.append(country)\n",
        "   \n",
        "print(new_list)\n",
        "\n",
        "  \n"
      ],
      "metadata": {
        "colab": {
          "base_uri": "https://localhost:8080/"
        },
        "id": "LM2tCoNxQGTv",
        "outputId": "72456805-85ba-4538-8b04-01f65ea807fd"
      },
      "execution_count": 2,
      "outputs": [
        {
          "output_type": "stream",
          "name": "stdout",
          "text": [
            "3:\n",
            "Finland\n",
            "Iceland\n",
            "Ireland\n",
            "Netherlands\n",
            "New Zealand\n",
            "Poland\n",
            "Switzerland\n",
            "Thailand\n",
            "4:\n",
            "Costa Rica\n",
            "Hong Kong\n",
            "New Zealand\n",
            "San Marino\n",
            "South Africa\n",
            "South Korea\n",
            "United Kingdom\n",
            "United States\n",
            "5:\n",
            "['Argentina', 'Australia', 'Austria', 'Estonia', 'Germany', 'Guatemala', 'Hong Kong', 'Hungary', 'Israel', 'Italy', 'Japan', 'Latvia', 'Lithuania', 'Malaysia', 'Norway', 'Paraguay', 'Peru', 'Philippines', 'Portugal', 'Romania', 'Russia', 'San Marino', 'Singapore', 'Slovakia', 'South Korea', 'Spain', 'Taiwan', 'Turkey', 'Ukraine', 'Uruguay', 'Venezuela']\n"
          ]
        }
      ]
    },
    {
      "cell_type": "code",
      "source": [
        "countries_list = ['Argentina', 'Australia', 'Austria', 'Belgium', 'Bolivia', 'Brazil', 'Bulgaria', 'Canada', 'Chile', 'Colombia', 'Costa Rica', 'Croatia', 'Czechia', 'Denmark', 'Ecuador', 'Estonia', 'Finland', 'France', 'Germany', 'Gibraltar', 'Greece', 'Guatemala', 'Honduras', 'Hong Kong', 'Hungary', 'Iceland', 'India', 'Indonesia', 'Ireland', 'Israel', 'Italy', 'Japan', 'Latvia', 'Liechtenstein', 'Lithuania', 'Malaysia', 'Mexico', 'Moldova', 'Monaco', 'Netherlands', 'New Zealand', 'Norway', 'Paraguay', 'Peru', 'Philippines', 'Poland', 'Portugal', 'Romania', 'Russia', 'San Marino', 'Singapore', 'Slovakia', 'South Africa', 'South Korea', 'Spain', 'Sweden', 'Switzerland', 'Taiwan', 'Thailand', 'Turkey', 'Ukraine', 'United Kingdom', 'United States', 'Uruguay', 'Venezuela']\n",
        "countries_subscription_prices = [9.26, 16.39, 20.32, 20.32, 13.99, 9.96, 13.54, 15.03, 12.74, 9.93, 15.99, 13.54, 14.15, 19.6, 13.99, 13.54, 18.06, 20.32, 20.32, 20.32, 15.8, 13.99, 13.99, 11.93, 13.78, 20.32, 8.6, 12.96, 20.32, 19.54, 20.32, 17.45, 13.54, 26.96, 13.54, 13.02, 14.24, 13.54, 18.06, 18.06, 16.94, 17.75, 14.69, 11.01, 10.93, 14.76, 18.06, 13.54, 13.56, 20.32, 16.11, 13.54, 12.58, 14.45, 20.32, 19.7, 26.96, 14.07, 12.52, 4.02, 11.29, 18.48, 17.99, 15.99, 13.99]\n",
        "print(len(countries_list), len(countries_subscription_prices))\n",
        "print('6:')\n",
        "dic = { countries_list[i]: countries_subscription_prices[i] for i in range(len(countries_list))}\n",
        "print(dic)\n",
        "print('7:')\n",
        "for country in dic:\n",
        "  dic[country] *= 5\n",
        "print(dic)\n",
        "print('8:')\n",
        "temp = min(dic.values())\n",
        "result = [key for key in dic if dic[key] == temp]\n",
        "print(result)"
      ],
      "metadata": {
        "colab": {
          "base_uri": "https://localhost:8080/"
        },
        "id": "Kp7xrzL3X341",
        "outputId": "4a62f26d-cef2-4e3f-adff-7b8d721f208e"
      },
      "execution_count": 3,
      "outputs": [
        {
          "output_type": "stream",
          "name": "stdout",
          "text": [
            "65 65\n",
            "6:\n",
            "{'Argentina': 9.26, 'Australia': 16.39, 'Austria': 20.32, 'Belgium': 20.32, 'Bolivia': 13.99, 'Brazil': 9.96, 'Bulgaria': 13.54, 'Canada': 15.03, 'Chile': 12.74, 'Colombia': 9.93, 'Costa Rica': 15.99, 'Croatia': 13.54, 'Czechia': 14.15, 'Denmark': 19.6, 'Ecuador': 13.99, 'Estonia': 13.54, 'Finland': 18.06, 'France': 20.32, 'Germany': 20.32, 'Gibraltar': 20.32, 'Greece': 15.8, 'Guatemala': 13.99, 'Honduras': 13.99, 'Hong Kong': 11.93, 'Hungary': 13.78, 'Iceland': 20.32, 'India': 8.6, 'Indonesia': 12.96, 'Ireland': 20.32, 'Israel': 19.54, 'Italy': 20.32, 'Japan': 17.45, 'Latvia': 13.54, 'Liechtenstein': 26.96, 'Lithuania': 13.54, 'Malaysia': 13.02, 'Mexico': 14.24, 'Moldova': 13.54, 'Monaco': 18.06, 'Netherlands': 18.06, 'New Zealand': 16.94, 'Norway': 17.75, 'Paraguay': 14.69, 'Peru': 11.01, 'Philippines': 10.93, 'Poland': 14.76, 'Portugal': 18.06, 'Romania': 13.54, 'Russia': 13.56, 'San Marino': 20.32, 'Singapore': 16.11, 'Slovakia': 13.54, 'South Africa': 12.58, 'South Korea': 14.45, 'Spain': 20.32, 'Sweden': 19.7, 'Switzerland': 26.96, 'Taiwan': 14.07, 'Thailand': 12.52, 'Turkey': 4.02, 'Ukraine': 11.29, 'United Kingdom': 18.48, 'United States': 17.99, 'Uruguay': 15.99, 'Venezuela': 13.99}\n",
            "7:\n",
            "{'Argentina': 46.3, 'Australia': 81.95, 'Austria': 101.6, 'Belgium': 101.6, 'Bolivia': 69.95, 'Brazil': 49.800000000000004, 'Bulgaria': 67.69999999999999, 'Canada': 75.14999999999999, 'Chile': 63.7, 'Colombia': 49.65, 'Costa Rica': 79.95, 'Croatia': 67.69999999999999, 'Czechia': 70.75, 'Denmark': 98.0, 'Ecuador': 69.95, 'Estonia': 67.69999999999999, 'Finland': 90.3, 'France': 101.6, 'Germany': 101.6, 'Gibraltar': 101.6, 'Greece': 79.0, 'Guatemala': 69.95, 'Honduras': 69.95, 'Hong Kong': 59.65, 'Hungary': 68.89999999999999, 'Iceland': 101.6, 'India': 43.0, 'Indonesia': 64.80000000000001, 'Ireland': 101.6, 'Israel': 97.69999999999999, 'Italy': 101.6, 'Japan': 87.25, 'Latvia': 67.69999999999999, 'Liechtenstein': 134.8, 'Lithuania': 67.69999999999999, 'Malaysia': 65.1, 'Mexico': 71.2, 'Moldova': 67.69999999999999, 'Monaco': 90.3, 'Netherlands': 90.3, 'New Zealand': 84.7, 'Norway': 88.75, 'Paraguay': 73.45, 'Peru': 55.05, 'Philippines': 54.65, 'Poland': 73.8, 'Portugal': 90.3, 'Romania': 67.69999999999999, 'Russia': 67.8, 'San Marino': 101.6, 'Singapore': 80.55, 'Slovakia': 67.69999999999999, 'South Africa': 62.9, 'South Korea': 72.25, 'Spain': 101.6, 'Sweden': 98.5, 'Switzerland': 134.8, 'Taiwan': 70.35, 'Thailand': 62.599999999999994, 'Turkey': 20.099999999999998, 'Ukraine': 56.449999999999996, 'United Kingdom': 92.4, 'United States': 89.94999999999999, 'Uruguay': 79.95, 'Venezuela': 69.95}\n",
            "8:\n",
            "['Turkey']\n"
          ]
        }
      ]
    }
  ]
}